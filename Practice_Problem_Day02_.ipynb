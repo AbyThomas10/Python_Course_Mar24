{
  "nbformat": 4,
  "nbformat_minor": 0,
  "metadata": {
    "colab": {
      "provenance": [],
      "authorship_tag": "ABX9TyOxrAQdcNZFhs8+/FhAQWzH",
      "include_colab_link": true
    },
    "kernelspec": {
      "name": "python3",
      "display_name": "Python 3"
    },
    "language_info": {
      "name": "python"
    }
  },
  "cells": [
    {
      "cell_type": "markdown",
      "metadata": {
        "id": "view-in-github",
        "colab_type": "text"
      },
      "source": [
        "<a href=\"https://colab.research.google.com/github/AbyThomas10/Python_Course_Mar24/blob/main/Practice_Problem_Day02_.ipynb\" target=\"_parent\"><img src=\"https://colab.research.google.com/assets/colab-badge.svg\" alt=\"Open In Colab\"/></a>"
      ]
    },
    {
      "cell_type": "code",
      "execution_count": null,
      "metadata": {
        "colab": {
          "base_uri": "https://localhost:8080/"
        },
        "id": "NOo5t7qJ0M9A",
        "outputId": "84ed21f4-2327-4bc2-ecd9-79ea0361798b"
      },
      "outputs": [
        {
          "output_type": "stream",
          "name": "stdout",
          "text": [
            "Sum of all elements in the list: 15\n"
          ]
        }
      ],
      "source": [
        "# Write a program to find sum of all elements in a list of integers.\n",
        "my_list = [1, 2, 3, 4, 5]\n",
        "total =0\n",
        "for num in my_list:\n",
        "        total = num+total\n",
        "print(\"Sum of all elements in the list:\", total)"
      ]
    },
    {
      "cell_type": "code",
      "source": [
        "#Input a sentence as a string.\n",
        "sentence = input(\"Enter a sentence: \")\n",
        "length = len(sentence)\n",
        "print(\"Length of the sentence:\", length)\n",
        "half_length = length // 2\n",
        "first_half = sentence[:half_length]\n",
        "print(\"First half of the sentence:\", first_half)"
      ],
      "metadata": {
        "colab": {
          "base_uri": "https://localhost:8080/"
        },
        "id": "to_YmNMZ6DT5",
        "outputId": "e7d41749-6749-4c98-f9d2-3ed49ff773a3"
      },
      "execution_count": null,
      "outputs": [
        {
          "output_type": "stream",
          "name": "stdout",
          "text": [
            "Enter a sentence: ABCDEF\n",
            "Length of the sentence: 6\n",
            "First half of the sentence: ABC\n"
          ]
        }
      ]
    },
    {
      "cell_type": "code",
      "source": [
        "#Write a program to enter a tuple of integers as\n",
        "\n",
        "original_tuple = (78, 45, 32, 19, 82, 77, 40, 39)\n",
        "modified_list = list(original_tuple)\n",
        "modified_list[2] = 100\n",
        "modified_tuple = tuple(modified_list)\n",
        "print(\"Original tuple:\", original_tuple)\n",
        "print(\"New tuple:\", modified_tuple)"
      ],
      "metadata": {
        "colab": {
          "base_uri": "https://localhost:8080/"
        },
        "id": "R8l1CID66tP6",
        "outputId": "091b1003-3cdd-44af-cd1b-fd392105c037"
      },
      "execution_count": null,
      "outputs": [
        {
          "output_type": "stream",
          "name": "stdout",
          "text": [
            "Original tuple: (78, 45, 32, 19, 82, 77, 40, 39)\n",
            "New tuple: (78, 45, 100, 19, 82, 77, 40, 39)\n"
          ]
        }
      ]
    },
    {
      "cell_type": "code",
      "source": [
        "#Consider a list listA=[19,32,10,55,31,32,94,29,10,65,77,40,40]\n",
        "listA=[19,32,10,55,31,32,94,29,10,65,77,40,40]\n",
        "listA.remove(32)\n",
        "print (\"After Deleting First 32 from the list => \", listA)\n",
        "listA=[19,32,10,55,31,32,94,29,10,65,77,40,40]\n",
        "while 40 in listA:\n",
        " listA.remove(40)\n",
        "print (\"Delete the occurance of 40 abd the list is \",listA)\n",
        "listA=[19,32,10,55,31,32,94,29,10,65,77,40,40]\n",
        "del listA[5]\n",
        "print(\"Delete the value at index=5 and the list is \",listA)\n",
        "listA=[19,32,10,55,31,32,94,29,10,65,77,40,40]\n",
        "listA[9] = 300\n",
        "print(\"Modify the value at index=9 as 300 is \",listA)\n",
        "listA=[19,32,10,55,31,32,94,29,10,65,77,40,40]\n",
        "listA.insert(2, 200)\n",
        "print(\"Add 200 at index=2 \",listA)\n",
        "print(\"List:\", listA)\n",
        "# the length of the list\n",
        "print(\"Length:\", len(listA))\n",
        "# the maximum value in the list\n",
        "print(\"Maximum value:\", max(listA))\n",
        "# the sum of all elements in the list\n",
        "print(\"Sum of all elements:\", sum(listA))\n"
      ],
      "metadata": {
        "colab": {
          "base_uri": "https://localhost:8080/"
        },
        "id": "jQtf9Gm87I5z",
        "outputId": "627089b5-e170-442b-c636-d7e04d7722bd"
      },
      "execution_count": null,
      "outputs": [
        {
          "output_type": "stream",
          "name": "stdout",
          "text": [
            "After Deleting First 32 from the list =>  [19, 10, 55, 31, 32, 94, 29, 10, 65, 77, 40, 40]\n",
            "Delete the occurance of 40 abd the list is  [19, 32, 10, 55, 31, 32, 94, 29, 10, 65, 77]\n",
            "Delete the value at index=5 and the list is  [19, 32, 10, 55, 31, 94, 29, 10, 65, 77, 40, 40]\n",
            "Modify the value at index=9 as 300 is  [19, 32, 10, 55, 31, 32, 94, 29, 10, 300, 77, 40, 40]\n",
            "Add 200 at index=2  [19, 32, 200, 10, 55, 31, 32, 94, 29, 10, 65, 77, 40, 40]\n",
            "List: [19, 32, 200, 10, 55, 31, 32, 94, 29, 10, 65, 77, 40, 40]\n",
            "Length: 14\n",
            "Maximum value: 200\n",
            "Sum of all elements: 734\n"
          ]
        }
      ]
    },
    {
      "cell_type": "code",
      "source": [
        "#Consider a string ”The day has been long”.\n",
        "#Delete the value at index =4\n",
        "string1 = \"The day has been long\"\n",
        "my_string = string1[:4] + string1[5:]\n",
        "print(my_string)\n",
        "#Print the string 4 times in a single line with space between each repetition\n",
        "print((string1 + ' ') * 4)\n",
        "#Print the string 3 times in a new line each time\n",
        "for x in range(3):\n",
        "   print(string1)\n",
        "#Modify the string at index 7 as ’A’\n",
        "\n",
        "index_modify = 7\n",
        "new_character = ' A'\n",
        "modified_string = string1[:index_modify] + new_character + string1[index_modify + 1:]\n",
        "print(modified_string)\n",
        "#Print the string from index 4 to 15\n",
        "print(string1[4:16])\n",
        "#Print the final string with its length\n",
        "my_string = \"The day has been long\"\n",
        "print(string1)\n",
        "print(\"Length of the string:\", len(string1))"
      ],
      "metadata": {
        "id": "X6aSN6nXA-gq",
        "colab": {
          "base_uri": "https://localhost:8080/"
        },
        "outputId": "06546a10-9755-44f7-83d9-ae82a4fc6c64"
      },
      "execution_count": 13,
      "outputs": [
        {
          "output_type": "stream",
          "name": "stdout",
          "text": [
            "The ay has been long\n",
            "The day has been long The day has been long The day has been long The day has been long \n",
            "The day has been long\n",
            "The day has been long\n",
            "The day has been long\n",
            "The day Ahas been long\n",
            "day has been\n",
            "The day has been long\n",
            "Length of the string: 21\n"
          ]
        }
      ]
    }
  ]
}