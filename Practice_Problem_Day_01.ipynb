{
  "nbformat": 4,
  "nbformat_minor": 0,
  "metadata": {
    "colab": {
      "provenance": []
    },
    "kernelspec": {
      "name": "python3",
      "display_name": "Python 3"
    },
    "language_info": {
      "name": "python"
    }
  },
  "cells": [
    {
      "cell_type": "markdown",
      "source": [
        "Given the string \"Hello, World!\", extract and print the\n",
        "substring \"Hello\"."
      ],
      "metadata": {
        "id": "9_g6-m3Rsygv"
      }
    },
    {
      "cell_type": "code",
      "execution_count": null,
      "metadata": {
        "colab": {
          "base_uri": "https://localhost:8080/"
        },
        "id": "g-N0rZU9sXD9",
        "outputId": "656489ec-0094-4485-b50f-adda428e9c2e"
      },
      "outputs": [
        {
          "output_type": "stream",
          "name": "stdout",
          "text": [
            "Hello\n"
          ]
        }
      ],
      "source": [
        "#Given the string \"Hello, World!\", extract and print the substring \"Hello\".\n",
        "my_str = \"Hello, World!\"\n",
        "substring = my_str[:5]\n",
        "print(substring)"
      ]
    },
    {
      "cell_type": "code",
      "source": [
        "#  Extracting and printing the substring \"is\"\n",
        "my_str = \"Python is fun\"\n",
        "substring = my_str[7:9]\n",
        "print(substring)"
      ],
      "metadata": {
        "colab": {
          "base_uri": "https://localhost:8080/"
        },
        "id": "nKhDQvFhs3m4",
        "outputId": "960edbd6-d9ba-4269-8dd2-71beca998d96"
      },
      "execution_count": null,
      "outputs": [
        {
          "output_type": "stream",
          "name": "stdout",
          "text": [
            "is\n"
          ]
        }
      ]
    },
    {
      "cell_type": "code",
      "source": [
        "#Given the string \"Programming\", extract and print the substring \"gram\" using slicing indices.\n",
        "string = \"Programming\"\n",
        "substring = string[3:7]\n",
        "print(substring)"
      ],
      "metadata": {
        "colab": {
          "base_uri": "https://localhost:8080/"
        },
        "id": "oAGPBnOJtR01",
        "outputId": "d7296f9f-3239-4faf-bd6f-b9cc79534707"
      },
      "execution_count": null,
      "outputs": [
        {
          "output_type": "stream",
          "name": "stdout",
          "text": [
            "gram\n"
          ]
        }
      ]
    },
    {
      "cell_type": "code",
      "source": [
        "#Given the string \"abcdefgh\", use slicing to print only the characters at even indices\n",
        "\n",
        "string = \"abcdefgh\"\n",
        "result = string[::2]\n",
        "print(result)"
      ],
      "metadata": {
        "colab": {
          "base_uri": "https://localhost:8080/"
        },
        "id": "T8wWbjIythpX",
        "outputId": "a0d347e2-3353-4c3f-84d9-a36f3afb69a8"
      },
      "execution_count": null,
      "outputs": [
        {
          "output_type": "stream",
          "name": "stdout",
          "text": [
            "aceg\n"
          ]
        }
      ]
    },
    {
      "cell_type": "code",
      "source": [
        "#Given the string \"abcdefg\", use negative indices to extract and print the substring \"efg\".\n",
        "s = \"abcdefg\"\n",
        "substring = s[-3:]\n",
        "print(substring)"
      ],
      "metadata": {
        "colab": {
          "base_uri": "https://localhost:8080/"
        },
        "id": "ETl1T28ctmEl",
        "outputId": "67829dc7-d83b-454e-fcf3-e279ed9bd60b"
      },
      "execution_count": null,
      "outputs": [
        {
          "output_type": "stream",
          "name": "stdout",
          "text": [
            "efg\n"
          ]
        }
      ]
    },
    {
      "cell_type": "code",
      "source": [
        "# Given the string \"Data Science\", use negative indices to extract and print the last three characters.\n",
        "string = \"Data Science\"\n",
        "print(string[-3:])\n"
      ],
      "metadata": {
        "colab": {
          "base_uri": "https://localhost:8080/"
        },
        "id": "PAWYl7N2u11m",
        "outputId": "c0284bc9-829c-4be4-d987-3b30635ff506"
      },
      "execution_count": null,
      "outputs": [
        {
          "output_type": "stream",
          "name": "stdout",
          "text": [
            "nce\n"
          ]
        }
      ]
    },
    {
      "cell_type": "code",
      "source": [
        "#Given the string \"abcdefghij\", use slicing with a step to print every second character.\n",
        "my_str2 = \"abcdefghij\"\n",
        "print(my_str2[::2])"
      ],
      "metadata": {
        "colab": {
          "base_uri": "https://localhost:8080/"
        },
        "id": "ypo8cv2lvOn-",
        "outputId": "8b5fb251-363c-4c54-9bf7-3f8ae546a014"
      },
      "execution_count": null,
      "outputs": [
        {
          "output_type": "stream",
          "name": "stdout",
          "text": [
            "acegi\n"
          ]
        }
      ]
    },
    {
      "cell_type": "code",
      "source": [
        "#Given the string \"1234567890\", use slicing with a step to print the odd digits.\n",
        "string3 = \"1234567890\"\n",
        "odd_digits = string3[::2]\n",
        "print(odd_digits)"
      ],
      "metadata": {
        "colab": {
          "base_uri": "https://localhost:8080/"
        },
        "id": "kAPlsVQgvg4W",
        "outputId": "2ee4b0a1-1fd5-4993-87ee-578ce3bd663b"
      },
      "execution_count": null,
      "outputs": [
        {
          "output_type": "stream",
          "name": "stdout",
          "text": [
            "13579\n"
          ]
        }
      ]
    },
    {
      "cell_type": "code",
      "source": [
        "#Given the string \"Hello\", use slicing to print the string in reverse order\n",
        "string4 = \"Hello\"\n",
        "reversed_string = string4[::-1]\n",
        "print(reversed_string)"
      ],
      "metadata": {
        "colab": {
          "base_uri": "https://localhost:8080/"
        },
        "id": "BJqWmDmvv-K_",
        "outputId": "bbf3e505-52e1-4b04-e031-dfdb8afc919c"
      },
      "execution_count": null,
      "outputs": [
        {
          "output_type": "stream",
          "name": "stdout",
          "text": [
            "olleH\n"
          ]
        }
      ]
    },
    {
      "cell_type": "code",
      "source": [
        "#Given the string \"abcdefghijk\", extract and print the substring \"acegik\" using slicing.\n",
        "string5 = \"abcdefghijk\"\n",
        "sub_string = string5[::2]\n",
        "print(sub_string)"
      ],
      "metadata": {
        "colab": {
          "base_uri": "https://localhost:8080/"
        },
        "id": "kd2WmlwhwQd2",
        "outputId": "7dac7d9e-5266-4113-f9fc-e621d22f6f4e"
      },
      "execution_count": null,
      "outputs": [
        {
          "output_type": "stream",
          "name": "stdout",
          "text": [
            "acegik\n"
          ]
        }
      ]
    }
  ]
}