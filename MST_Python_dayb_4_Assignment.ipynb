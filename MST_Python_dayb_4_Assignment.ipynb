{
  "nbformat": 4,
  "nbformat_minor": 0,
  "metadata": {
    "colab": {
      "provenance": [],
      "authorship_tag": "ABX9TyMcb7iduUTND031ZSRsqvle",
      "include_colab_link": true
    },
    "kernelspec": {
      "name": "python3",
      "display_name": "Python 3"
    },
    "language_info": {
      "name": "python"
    }
  },
  "cells": [
    {
      "cell_type": "markdown",
      "metadata": {
        "id": "view-in-github",
        "colab_type": "text"
      },
      "source": [
        "<a href=\"https://colab.research.google.com/github/AbyThomas10/Python_Course_Mar24/blob/main/MST_Python_dayb_4_Assignment.ipynb\" target=\"_parent\"><img src=\"https://colab.research.google.com/assets/colab-badge.svg\" alt=\"Open In Colab\"/></a>"
      ]
    },
    {
      "cell_type": "code",
      "execution_count": null,
      "metadata": {
        "colab": {
          "base_uri": "https://localhost:8080/"
        },
        "id": "siXvSfd9Oq2h",
        "outputId": "8def2582-4d91-4fff-d1b1-ff533b003be2"
      },
      "outputs": [
        {
          "output_type": "stream",
          "name": "stdout",
          "text": [
            "Enter a number between 1 and 10-> 5\n",
            "Too low! Try again.\n",
            "Enter a number between 1 and 10-> 3\n",
            "Too low! Try again.\n",
            "Enter a number between 1 and 10-> 6\n",
            "Congratulations! You guessed the number correctly!\n"
          ]
        }
      ],
      "source": [
        "import random\n",
        "secretNumber = random.randint(1, 10)\n",
        "\n",
        "while True:\n",
        "  guess = int(input(\"Enter a number between 1 and 10-> \"))\n",
        "  if guess == secretNumber:\n",
        "    print(\"Congratulations! You guessed the number correctly!\")\n",
        "    break\n",
        "  elif guess < secretNumber:\n",
        "    print(\"Too low! Try again.\")\n",
        "  else:\n",
        "    print(\"Too high! Try again.\")\n"
      ]
    },
    {
      "cell_type": "code",
      "source": [
        "# factorial of the number\n",
        "number = int(input(\"Enter a positive integer: \"))\n",
        "num = number\n",
        "i = 1\n",
        "# Check if the input is positive\n",
        "if number < 0:\n",
        "    print(\"Factorial is not defined for negative numbers.\")\n",
        "elif number == 0:\n",
        "    print(\"The factorial of 0 is 1.\")\n",
        "else:\n",
        "    while num > 0:\n",
        "     i *= num\n",
        "     num = num - 1\n",
        "    print(\"The factorial of\", number, \"is\", i)"
      ],
      "metadata": {
        "colab": {
          "base_uri": "https://localhost:8080/"
        },
        "id": "46zgdFPAS9OP",
        "outputId": "4f806b1e-aa6b-4501-f86e-4c431986351d"
      },
      "execution_count": null,
      "outputs": [
        {
          "output_type": "stream",
          "name": "stdout",
          "text": [
            "Enter a positive integer: 5\n",
            "The factorial of 5 is 120\n"
          ]
        }
      ]
    },
    {
      "cell_type": "code",
      "source": [
        "# check the upload pucs are matching with the dimensions\n",
        "L = int(input(\"Enter the minimum dimension (length) of the picture: \"))  # length of the pic\n",
        "N = int(input(\"Enter the number of photos: \"))\n",
        "W, H = map(int, input(\"Enter the width and height of the photo: \").split())\n",
        "# Check if any of the width or height is less than L\n",
        "if W < L or H < L:\n",
        "  print(\"UPLOAD ANOTHER\")\n",
        "elif W == H:\n",
        "  print(\"ACCEPTED\")\n",
        "else:\n",
        "  print(\"CROP IT\")"
      ],
      "metadata": {
        "colab": {
          "base_uri": "https://localhost:8080/"
        },
        "id": "Mr1WBiX1cMHc",
        "outputId": "f3d67b9a-b571-489a-f374-06d46b072b6e"
      },
      "execution_count": null,
      "outputs": [
        {
          "output_type": "stream",
          "name": "stdout",
          "text": [
            "Enter the minimum dimension (length) of the picture: 4\n",
            "Enter the number of photos: 8\n",
            "Enter the width and height of the photo: 3 2\n",
            "UPLOAD ANOTHER\n"
          ]
        }
      ]
    }
  ]
}