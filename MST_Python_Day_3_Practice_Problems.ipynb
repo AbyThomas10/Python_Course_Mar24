{
  "nbformat": 4,
  "nbformat_minor": 0,
  "metadata": {
    "colab": {
      "provenance": [],
      "authorship_tag": "ABX9TyNiaCTpudfO5AVbbchs2ywA",
      "include_colab_link": true
    },
    "kernelspec": {
      "name": "python3",
      "display_name": "Python 3"
    },
    "language_info": {
      "name": "python"
    }
  },
  "cells": [
    {
      "cell_type": "markdown",
      "metadata": {
        "id": "view-in-github",
        "colab_type": "text"
      },
      "source": [
        "<a href=\"https://colab.research.google.com/github/AbyThomas10/Python_Course_Mar24/blob/main/MST_Python_Day_3_Practice_Problems.ipynb\" target=\"_parent\"><img src=\"https://colab.research.google.com/assets/colab-badge.svg\" alt=\"Open In Colab\"/></a>"
      ]
    },
    {
      "cell_type": "code",
      "execution_count": 4,
      "metadata": {
        "colab": {
          "base_uri": "https://localhost:8080/"
        },
        "id": "Ay4JqaoBFL-d",
        "outputId": "d189842a-a02a-46ae-8f69-8d191d30825d"
      },
      "outputs": [
        {
          "output_type": "stream",
          "name": "stdout",
          "text": [
            "the sorted score ==>  [6, 5, 3, 2]\n",
            "The runner-up score is: 5\n"
          ]
        }
      ],
      "source": [
        "scores = [2, 3, 6, 6, 5]\n",
        "sorted_score = sorted(set(scores), reverse=True)\n",
        "print (\"the sorted score ==> \",sorted_score)\n",
        "if len(sorted_score) < 2:\n",
        "   print(\"There is no runner-up score.\")\n",
        "else:\n",
        "   print(\"The runner-up score is:\", sorted_score[1])"
      ]
    },
    {
      "cell_type": "code",
      "source": [
        "D = {'John': [25, 32, 43], 'Peter': [87, 55, 96], 'Ram': [58, 55, 43], 'Meena': [63, 79, 85]}\n",
        "name = input(\"Enter a name: \")\n",
        "if name in D:\n",
        "    D[name] = [88, 77, 99]\n",
        "    print(\"Dictionary after updating values for\", name, \":\", D)\n",
        "else:\n",
        "    print(\"Name not found\")"
      ],
      "metadata": {
        "colab": {
          "base_uri": "https://localhost:8080/"
        },
        "id": "rYfx0KF1GORr",
        "outputId": "3caf1756-0559-4b65-b0e7-510f608b7b26"
      },
      "execution_count": 7,
      "outputs": [
        {
          "output_type": "stream",
          "name": "stdout",
          "text": [
            "Enter a name: Peter\n",
            "Dictionary after updating values for Peter : {'John': [25, 32, 43], 'Peter': [88, 77, 99], 'Ram': [58, 55, 43], 'Meena': [63, 79, 85]}\n"
          ]
        }
      ]
    },
    {
      "cell_type": "code",
      "source": [
        "age = int(input(\"Enter ur age: \"))\n",
        "gender = input(\"Enter your gender (male/female): \")\n",
        "if age < 5 or age > 60:\n",
        "    print(\"Ticket price: Rs. 0\")\n",
        "elif age >= 5 and age <= 12:\n",
        "    if gender.lower() == 'female':\n",
        "      print(\"Ticket Price: Rs. 5\")\n",
        "    else:\n",
        "      print(\"Ticket Price: Rs. 10\")\n",
        "else:\n",
        "      if gender.lower() == 'female':\n",
        "        print(\"Ticket Price: Rs. 25\")\n",
        "      else:\n",
        "       print(\"Ticket Price: Rs. 50\")\n",
        "\n"
      ],
      "metadata": {
        "colab": {
          "base_uri": "https://localhost:8080/"
        },
        "id": "e6CtPnG6HSw0",
        "outputId": "38a860af-a5ff-47db-846b-b75ba832788e"
      },
      "execution_count": 12,
      "outputs": [
        {
          "output_type": "stream",
          "name": "stdout",
          "text": [
            "Enter ur age: 35\n",
            "Enter your gender (male/female): Male\n",
            "Ticket Price: Rs. 50\n"
          ]
        }
      ]
    }
  ]
}